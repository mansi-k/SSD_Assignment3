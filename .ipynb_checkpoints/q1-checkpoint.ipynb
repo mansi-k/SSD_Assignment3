{
 "cells": [
  {
   "cell_type": "code",
   "execution_count": 58,
   "metadata": {},
   "outputs": [],
   "source": [
    "# import json"
   ]
  },
  {
   "cell_type": "code",
   "execution_count": 77,
   "metadata": {},
   "outputs": [
    {
     "name": "stdout",
     "output_type": "stream",
     "text": [
      "{'L0': [{'name': 100}], 'L1': [{'name': 210, 'parent': 100}, {'name': 220, 'parent': 100}], 'L2': [{'name': 410, 'parent': 210}, {'name': 420, 'parent': 220}, {'name': 430, 'parent': 220}], 'L3': [{'name': 710, 'parent': 410}, {'name': 720, 'parent': 410}, {'name': 730, 'parent': 410}, {'name': 740, 'parent': 430}, {'name': 750, 'parent': 430}]}\n"
     ]
    }
   ],
   "source": [
    "import json\n",
    "with open('q1json.json') as f:\n",
    "    data = json.load(f)\n",
    "print(data)"
   ]
  },
  {
   "cell_type": "code",
   "execution_count": 83,
   "metadata": {},
   "outputs": [
    {
     "name": "stdout",
     "output_type": "stream",
     "text": [
      "730 100\n",
      "[{100: -1}, {210: 100, 220: 100}, {410: 210, 420: 220, 430: 220}, {710: 410, 720: 410, 730: 410, 740: 430}]\n",
      "3 0\n"
     ]
    }
   ],
   "source": [
    "# e1 = 220\n",
    "# e2 = 750\n",
    "e1,e2 = [int(x) for x in input().split()]\n",
    "flat_emp = []\n",
    "l = 0\n",
    "e1l = -1\n",
    "e2l = -1\n",
    "for level in data:\n",
    "    le_dict = {}\n",
    "    if e1l<0 or e2l<0 :\n",
    "        for emp in data[level]:\n",
    "            if 'parent' in emp:\n",
    "                le_dict[emp['name']] = emp['parent']\n",
    "            else:\n",
    "                le_dict[emp['name']] = -1\n",
    "            if e1l<0 or e2l<0:\n",
    "                if emp['name']==e1:\n",
    "                    e1l = l\n",
    "                if emp['name']==e2:\n",
    "                    e2l = l\n",
    "            else:\n",
    "                break;\n",
    "        l+=1\n",
    "        flat_emp.append(le_dict)\n",
    "print(flat_emp)\n",
    "print(e1l,e2l) "
   ]
  },
  {
   "cell_type": "code",
   "execution_count": 85,
   "metadata": {},
   "outputs": [
    {
     "name": "stdout",
     "output_type": "stream",
     "text": [
      "No common leader\n"
     ]
    }
   ],
   "source": [
    "\n",
    "parent = {}\n",
    "# parent[e1] = e1l\n",
    "l=e1l\n",
    "p=e1\n",
    "\n",
    "while l>0:\n",
    "    p = flat_emp[l][p]\n",
    "    l-=1\n",
    "    parent[p] = l\n",
    "\n",
    "# print(parent)\n",
    "    \n",
    "l=e2l-1\n",
    "p=flat_emp[e2l][e2]\n",
    "\n",
    "while l>=0 and (p not in parent):\n",
    "    p = flat_emp[l][p]\n",
    "    l-=1\n",
    "    \n",
    "if l<0:\n",
    "    print(\"No common leader\")\n",
    "else:\n",
    "    print(p)\n",
    "    print(p,\"is\",e1l-l,\"levels above\",e1)\n",
    "    print(p,\"is\",e2l-l,\"levels above\",e2)\n",
    "\n"
   ]
  },
  {
   "cell_type": "code",
   "execution_count": null,
   "metadata": {},
   "outputs": [],
   "source": []
  }
 ],
 "metadata": {
  "kernelspec": {
   "display_name": "Python 3",
   "language": "python",
   "name": "python3"
  },
  "language_info": {
   "codemirror_mode": {
    "name": "ipython",
    "version": 3
   },
   "file_extension": ".py",
   "mimetype": "text/x-python",
   "name": "python",
   "nbconvert_exporter": "python",
   "pygments_lexer": "ipython3",
   "version": "3.6.5"
  }
 },
 "nbformat": 4,
 "nbformat_minor": 2
}

{
 "cells": [
  {
   "cell_type": "code",
   "execution_count": 5,
   "metadata": {},
   "outputs": [
    {
     "name": "stdout",
     "output_type": "stream",
     "text": [
      "2020-09-10\n"
     ]
    }
   ],
   "source": [
    "import datetime\n",
    "\n",
    "dt1 = \"10-9-2020\"\n",
    "# date1 = datetime.datetime.strptime(dt1, '%d/%m/%Y').date()\n",
    "date1 = datetime.datetime.strptime(dt1, '%d-%m-%Y').date()\n",
    "print(date1)"
   ]
  },
  {
   "cell_type": "code",
   "execution_count": 9,
   "metadata": {},
   "outputs": [
    {
     "ename": "AttributeError",
     "evalue": "'NoneType' object has no attribute 'group'",
     "output_type": "error",
     "traceback": [
      "\u001b[0;31m---------------------------------------------------------------------------\u001b[0m",
      "\u001b[0;31mAttributeError\u001b[0m                            Traceback (most recent call last)",
      "\u001b[0;32m<ipython-input-9-479faad768e8>\u001b[0m in \u001b[0;36m<module>\u001b[0;34m()\u001b[0m\n\u001b[1;32m      2\u001b[0m \u001b[0ms\u001b[0m \u001b[0;34m=\u001b[0m \u001b[0;34m\"19-09-21\"\u001b[0m\u001b[0;34m\u001b[0m\u001b[0m\n\u001b[1;32m      3\u001b[0m \u001b[0mmatch\u001b[0m \u001b[0;34m=\u001b[0m \u001b[0mre\u001b[0m\u001b[0;34m.\u001b[0m\u001b[0msearch\u001b[0m\u001b[0;34m(\u001b[0m\u001b[0;34mr'\\d{2}-\\d{5}-\\d{2}'\u001b[0m\u001b[0;34m,\u001b[0m \u001b[0ms\u001b[0m\u001b[0;34m)\u001b[0m\u001b[0;34m\u001b[0m\u001b[0m\n\u001b[0;32m----> 4\u001b[0;31m \u001b[0mprint\u001b[0m\u001b[0;34m(\u001b[0m\u001b[0mmatch\u001b[0m\u001b[0;34m.\u001b[0m\u001b[0mgroup\u001b[0m\u001b[0;34m(\u001b[0m\u001b[0;34m)\u001b[0m\u001b[0;34m)\u001b[0m\u001b[0;34m\u001b[0m\u001b[0m\n\u001b[0m",
      "\u001b[0;31mAttributeError\u001b[0m: 'NoneType' object has no attribute 'group'"
     ]
    }
   ],
   "source": [
    "import re\n",
    "s = \"19-09-21\"\n",
    "match = re.search(r'\\d{2}-\\d{5}-\\d{2}', s)\n",
    "print(match.group())"
   ]
  },
  {
   "cell_type": "code",
   "execution_count": 64,
   "metadata": {},
   "outputs": [
    {
     "name": "stdout",
     "output_type": "stream",
     "text": [
      "[]\n"
     ]
    },
    {
     "ename": "TypeError",
     "evalue": "must be str or None, not list",
     "output_type": "error",
     "traceback": [
      "\u001b[0;31m---------------------------------------------------------------------------\u001b[0m",
      "\u001b[0;31mTypeError\u001b[0m                                 Traceback (most recent call last)",
      "\u001b[0;32m<ipython-input-64-b8a164b37310>\u001b[0m in \u001b[0;36m<module>\u001b[0;34m()\u001b[0m\n\u001b[1;32m     14\u001b[0m \u001b[0;31m# print(re.match(rgxs,s).group())\u001b[0m\u001b[0;34m\u001b[0m\u001b[0;34m\u001b[0m\u001b[0m\n\u001b[1;32m     15\u001b[0m \u001b[0mprint\u001b[0m\u001b[0;34m(\u001b[0m\u001b[0mz\u001b[0m\u001b[0;34m)\u001b[0m\u001b[0;34m\u001b[0m\u001b[0m\n\u001b[0;32m---> 16\u001b[0;31m \u001b[0mprint\u001b[0m\u001b[0;34m(\u001b[0m\u001b[0ms\u001b[0m\u001b[0;34m.\u001b[0m\u001b[0msplit\u001b[0m\u001b[0;34m(\u001b[0m\u001b[0;34m[\u001b[0m\u001b[0;34m'.'\u001b[0m\u001b[0;34m,\u001b[0m\u001b[0;34m'/'\u001b[0m\u001b[0;34m,\u001b[0m\u001b[0;34m'-'\u001b[0m\u001b[0;34m]\u001b[0m\u001b[0;34m)\u001b[0m\u001b[0;34m)\u001b[0m\u001b[0;34m\u001b[0m\u001b[0m\n\u001b[0m",
      "\u001b[0;31mTypeError\u001b[0m: must be str or None, not list"
     ]
    }
   ],
   "source": [
    "import re\n",
    "\n",
    "s = \"10-9.2020\"\n",
    "# rgxlist = [r'\\d{2}-\\d{2}-\\d{4}',r'\\d{1}-\\d{1}-\\d{4}',r'\\d{1}-\\d{2}-\\d{4}',r'\\d{2}-\\d{1}-\\d{4}',r'']\n",
    "rgxlist = [r'\\d{1,2}-\\d{1,2}-\\d{4}',r'\\d{1,2}\\/\\d{1,2}\\/\\d{4}',r'\\d{1,2}\\.\\d{1,2}\\.\\d{4}']\n",
    "# rgxlist = [r'\\d{1,2}[\"st\"\"th\"]']\n",
    "# x,rg = any([re.match(rgx,s),rgx] for rgx in [r'\\d{2}-\\d{2}-\\d{4}',r'\\d{1}-\\d{1}-\\d{4}',r'\\d{1}-\\d{2}-\\d{4}',r'\\d{2}-\\d{1}-\\d{4}'])\n",
    "#     print(\"yes\")\n",
    "# else:\n",
    "#     print(\"no\")\n",
    "x = filter(lambda rgx: re.match(rgx,s),rgxlist)\n",
    "z = list(x)\n",
    "# print(z==\"\\d{1}-\\d{2}-\\d{4}\")\n",
    "# print(re.match(rgxs,s).group())\n",
    "print(z)\n",
    "print(re.split('[?.,]', test))"
   ]
  },
  {
   "cell_type": "code",
   "execution_count": 105,
   "metadata": {},
   "outputs": [
    {
     "name": "stdout",
     "output_type": "stream",
     "text": [
      "10-09-2020\n",
      "10th March, 2020\n",
      "hii\n",
      "10 9 2020\n",
      "hii\n",
      "10 3 2020\n"
     ]
    }
   ],
   "source": [
    "# s = \"10-09-2020\"\n",
    "# s = \"10th March, 2020\"\n",
    "s1 = input()\n",
    "s2 = input()\n",
    "day=0\n",
    "mon=0\n",
    "year=0\n",
    "mon_small = ['jan','feb','mar','apr','may','jun','jul','aug','sep','oct','nov','dec']\n",
    "mon_big = ['january','february','march','april','may','june','july','august','september','october','november','december']\n",
    "rgxlist1 = [r'\\d{1,2}-\\d{1,2}-\\d{4}',r'\\d{1,2}\\/\\d{1,2}\\/\\d{4}',r'\\d{1,2}\\.\\d{1,2}\\.\\d{4}']\n",
    "# rgxlist2 = [r'\\d{1,2}[\"st\"\"nd\"\"th\"][\" \"][a-zA-Z][\", \"]\\d{4}']\n",
    "# rgxlist2 = [r'[a-zA-Z]\\d{4}']\n",
    "for s in [s1,s2]:\n",
    "    if any(re.match(rgx,s) for rgx in rgxlist1):\n",
    "        day,mon,year = re.split('[-./]',s)\n",
    "    else:\n",
    "        day,mon,year = s.split()\n",
    "        day = re.split('[\"st\"\"nd\"\"th\"]',day)[0]\n",
    "        mon = mon[:len(mon)-1]\n",
    "        mon = ([int(i)+1 for i,val in enumerate(mon_small) if val==mon.lower()] or [int(i)+1 for i,val in enumerate(mon_big) if val==mon.lower()])[0]\n",
    "\n",
    "    day = int(day)\n",
    "    mon = int(mon)\n",
    "    year = int(year)\n",
    "    print(day,mon,year)\n",
    "# elif any(re.match(rgx,s) for rgx in rgxlist2):\n",
    "#     print(re.split('[\" \"]',s))"
   ]
  },
  {
   "cell_type": "code",
   "execution_count": null,
   "metadata": {},
   "outputs": [],
   "source": []
  }
 ],
 "metadata": {
  "kernelspec": {
   "display_name": "Python 3",
   "language": "python",
   "name": "python3"
  },
  "language_info": {
   "codemirror_mode": {
    "name": "ipython",
    "version": 3
   },
   "file_extension": ".py",
   "mimetype": "text/x-python",
   "name": "python",
   "nbconvert_exporter": "python",
   "pygments_lexer": "ipython3",
   "version": "3.6.5"
  }
 },
 "nbformat": 4,
 "nbformat_minor": 2
}

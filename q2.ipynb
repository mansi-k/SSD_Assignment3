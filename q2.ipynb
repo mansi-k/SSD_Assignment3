{
 "cells": [
  {
   "cell_type": "code",
   "execution_count": 5,
   "metadata": {},
   "outputs": [
    {
     "name": "stdout",
     "output_type": "stream",
     "text": [
      "2020-09-10\n"
     ]
    }
   ],
   "source": [
    "import datetime\n",
    "\n",
    "dt1 = \"10-9-2020\"\n",
    "# date1 = datetime.datetime.strptime(dt1, '%d/%m/%Y').date()\n",
    "date1 = datetime.datetime.strptime(dt1, '%d-%m-%Y').date()\n",
    "print(date1)"
   ]
  },
  {
   "cell_type": "code",
   "execution_count": 9,
   "metadata": {},
   "outputs": [
    {
     "ename": "AttributeError",
     "evalue": "'NoneType' object has no attribute 'group'",
     "output_type": "error",
     "traceback": [
      "\u001b[0;31m---------------------------------------------------------------------------\u001b[0m",
      "\u001b[0;31mAttributeError\u001b[0m                            Traceback (most recent call last)",
      "\u001b[0;32m<ipython-input-9-479faad768e8>\u001b[0m in \u001b[0;36m<module>\u001b[0;34m()\u001b[0m\n\u001b[1;32m      2\u001b[0m \u001b[0ms\u001b[0m \u001b[0;34m=\u001b[0m \u001b[0;34m\"19-09-21\"\u001b[0m\u001b[0;34m\u001b[0m\u001b[0m\n\u001b[1;32m      3\u001b[0m \u001b[0mmatch\u001b[0m \u001b[0;34m=\u001b[0m \u001b[0mre\u001b[0m\u001b[0;34m.\u001b[0m\u001b[0msearch\u001b[0m\u001b[0;34m(\u001b[0m\u001b[0;34mr'\\d{2}-\\d{5}-\\d{2}'\u001b[0m\u001b[0;34m,\u001b[0m \u001b[0ms\u001b[0m\u001b[0;34m)\u001b[0m\u001b[0;34m\u001b[0m\u001b[0m\n\u001b[0;32m----> 4\u001b[0;31m \u001b[0mprint\u001b[0m\u001b[0;34m(\u001b[0m\u001b[0mmatch\u001b[0m\u001b[0;34m.\u001b[0m\u001b[0mgroup\u001b[0m\u001b[0;34m(\u001b[0m\u001b[0;34m)\u001b[0m\u001b[0;34m)\u001b[0m\u001b[0;34m\u001b[0m\u001b[0m\n\u001b[0m",
      "\u001b[0;31mAttributeError\u001b[0m: 'NoneType' object has no attribute 'group'"
     ]
    }
   ],
   "source": [
    "import re\n",
    "s = \"19-09-21\"\n",
    "match = re.search(r'\\d{2}-\\d{5}-\\d{2}', s)\n",
    "print(match.group())"
   ]
  },
  {
   "cell_type": "code",
   "execution_count": 64,
   "metadata": {},
   "outputs": [
    {
     "name": "stdout",
     "output_type": "stream",
     "text": [
      "[]\n"
     ]
    },
    {
     "ename": "TypeError",
     "evalue": "must be str or None, not list",
     "output_type": "error",
     "traceback": [
      "\u001b[0;31m---------------------------------------------------------------------------\u001b[0m",
      "\u001b[0;31mTypeError\u001b[0m                                 Traceback (most recent call last)",
      "\u001b[0;32m<ipython-input-64-b8a164b37310>\u001b[0m in \u001b[0;36m<module>\u001b[0;34m()\u001b[0m\n\u001b[1;32m     14\u001b[0m \u001b[0;31m# print(re.match(rgxs,s).group())\u001b[0m\u001b[0;34m\u001b[0m\u001b[0;34m\u001b[0m\u001b[0m\n\u001b[1;32m     15\u001b[0m \u001b[0mprint\u001b[0m\u001b[0;34m(\u001b[0m\u001b[0mz\u001b[0m\u001b[0;34m)\u001b[0m\u001b[0;34m\u001b[0m\u001b[0m\n\u001b[0;32m---> 16\u001b[0;31m \u001b[0mprint\u001b[0m\u001b[0;34m(\u001b[0m\u001b[0ms\u001b[0m\u001b[0;34m.\u001b[0m\u001b[0msplit\u001b[0m\u001b[0;34m(\u001b[0m\u001b[0;34m[\u001b[0m\u001b[0;34m'.'\u001b[0m\u001b[0;34m,\u001b[0m\u001b[0;34m'/'\u001b[0m\u001b[0;34m,\u001b[0m\u001b[0;34m'-'\u001b[0m\u001b[0;34m]\u001b[0m\u001b[0;34m)\u001b[0m\u001b[0;34m)\u001b[0m\u001b[0;34m\u001b[0m\u001b[0m\n\u001b[0m",
      "\u001b[0;31mTypeError\u001b[0m: must be str or None, not list"
     ]
    }
   ],
   "source": [
    "import re\n",
    "\n",
    "s = \"10-9.2020\"\n",
    "# rgxlist = [r'\\d{2}-\\d{2}-\\d{4}',r'\\d{1}-\\d{1}-\\d{4}',r'\\d{1}-\\d{2}-\\d{4}',r'\\d{2}-\\d{1}-\\d{4}',r'']\n",
    "rgxlist = [r'\\d{1,2}-\\d{1,2}-\\d{4}',r'\\d{1,2}\\/\\d{1,2}\\/\\d{4}',r'\\d{1,2}\\.\\d{1,2}\\.\\d{4}']\n",
    "# rgxlist = [r'\\d{1,2}[\"st\"\"th\"]']\n",
    "# x,rg = any([re.match(rgx,s),rgx] for rgx in [r'\\d{2}-\\d{2}-\\d{4}',r'\\d{1}-\\d{1}-\\d{4}',r'\\d{1}-\\d{2}-\\d{4}',r'\\d{2}-\\d{1}-\\d{4}'])\n",
    "#     print(\"yes\")\n",
    "# else:\n",
    "#     print(\"no\")\n",
    "x = filter(lambda rgx: re.match(rgx,s),rgxlist)\n",
    "z = list(x)\n",
    "# print(z==\"\\d{1}-\\d{2}-\\d{4}\")\n",
    "# print(re.match(rgxs,s).group())\n",
    "print(z)\n",
    "print(re.split('[?.,]', test))"
   ]
  },
  {
   "cell_type": "code",
   "execution_count": 29,
   "metadata": {},
   "outputs": [
    {
     "name": "stdout",
     "output_type": "stream",
     "text": [
      "['10th September, 2020', '11th September, 2020']\n"
     ]
    }
   ],
   "source": [
    "f = open(\"date_calculator.txt\", \"r\")\n",
    "sdt = []\n",
    "for i in [0,1]:\n",
    "    fline = f.readline()\n",
    "    edt = fline.split(':')[1].strip()\n",
    "    sdt.append(edt)\n",
    "    \n",
    "print(sdt)"
   ]
  },
  {
   "cell_type": "code",
   "execution_count": 30,
   "metadata": {},
   "outputs": [
    {
     "name": "stdout",
     "output_type": "stream",
     "text": [
      "[10, 11] [9, 9] [2020, 2020]\n"
     ]
    }
   ],
   "source": [
    "import re\n",
    "# s = \"10-09-2020\"\n",
    "# s = \"10th March, 2020\"\n",
    "# s1 = input()\n",
    "# s2 = input()\n",
    "dt_day=[]\n",
    "dt_mon=[]\n",
    "dt_year=[]\n",
    "mon_small = ['jan','feb','mar','apr','may','jun','jul','aug','sep','oct','nov','dec']\n",
    "mon_big = ['january','february','march','april','may','june','july','august','september','october','november','december']\n",
    "rgxlist1 = [r'\\d{1,2}-\\d{1,2}-\\d{4}',r'\\d{1,2}\\/\\d{1,2}\\/\\d{4}',r'\\d{1,2}\\.\\d{1,2}\\.\\d{4}']\n",
    "# rgxlist2 = [r'\\d{1,2}[\"st\"\"nd\"\"th\"][\" \"][a-zA-Z][\", \"]\\d{4}']\n",
    "# rgxlist2 = [r'[a-zA-Z]\\d{4}']\n",
    "for s in sdt:\n",
    "    if any(re.match(rgx,s) for rgx in rgxlist1):\n",
    "        day,mon,year = re.split('[-./]',s)\n",
    "    else:\n",
    "        day,mon,year = s.split()\n",
    "        day = re.split('[\"st\"\"nd\"\"th\"]',day)[0]\n",
    "        mon = mon[:len(mon)-1]\n",
    "        mon = ([int(i)+1 for i,val in enumerate(mon_small) if val==mon.lower()] or [int(i)+1 for i,val in enumerate(mon_big) if val==mon.lower()])[0]\n",
    "\n",
    "    dt_day.append(int(day))\n",
    "    dt_mon.append(int(mon))\n",
    "    dt_year.append(int(year))\n",
    "print(dt_day,dt_mon,dt_year)\n",
    "# elif any(re.match(rgx,s) for rgx in rgxlist2):\n",
    "#     print(re.split('[\" \"]',s))"
   ]
  },
  {
   "cell_type": "code",
   "execution_count": 32,
   "metadata": {},
   "outputs": [
    {
     "name": "stdout",
     "output_type": "stream",
     "text": [
      "--------\n",
      "736935\n",
      "737178\n",
      "737188\n",
      "737188\n",
      "737678\n",
      "--------\n",
      "736935\n",
      "737178\n",
      "737189\n",
      "737189\n",
      "737679\n",
      "[737678, 737679]\n",
      "1 day\n"
     ]
    }
   ],
   "source": [
    "num_mons = [31,28,31,30,31,30,31,31,30,31,30,31]\n",
    "num_days=[]\n",
    "for i in [0,1]:\n",
    "    print(\"--------\")\n",
    "    nd = (dt_year[i]-1)*365\n",
    "    print(nd)\n",
    "    for m in range(0,dt_mon[i]-1):\n",
    "        nd += num_mons[m]\n",
    "    print(nd)\n",
    "    nd += dt_day[i]\n",
    "    print(nd)\n",
    "#     if dt_mon[i]>2 or (dt_mon[i]==2 and dt_day==29):\n",
    "#         nd += 1\n",
    "    dtyr = dt_year[i]\n",
    "    if dt_mon[i]<2 or (dt_mon[i]==2 and dt_day[i]<29):\n",
    "        dtyr -= 1\n",
    "    print(nd)\n",
    "    nd += dtyr//4 - dtyr//100 + dtyr//400\n",
    "    print(nd)\n",
    "    num_days.append(int(nd))\n",
    "print(num_days)\n",
    "diff = abs(num_days[0]-num_days[1])\n",
    "if diff<2:\n",
    "    print(diff,\"day\")\n",
    "else:\n",
    "    print(diff,\"days\")\n",
    "    "
   ]
  },
  {
   "cell_type": "code",
   "execution_count": null,
   "metadata": {},
   "outputs": [],
   "source": []
  }
 ],
 "metadata": {
  "kernelspec": {
   "display_name": "Python 3",
   "language": "python",
   "name": "python3"
  },
  "language_info": {
   "codemirror_mode": {
    "name": "ipython",
    "version": 3
   },
   "file_extension": ".py",
   "mimetype": "text/x-python",
   "name": "python",
   "nbconvert_exporter": "python",
   "pygments_lexer": "ipython3",
   "version": "3.6.5"
  }
 },
 "nbformat": 4,
 "nbformat_minor": 2
}

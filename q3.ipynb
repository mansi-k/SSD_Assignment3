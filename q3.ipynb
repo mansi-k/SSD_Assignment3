{
 "cells": [
  {
   "cell_type": "code",
   "execution_count": 19,
   "metadata": {},
   "outputs": [
    {
     "name": "stdout",
     "output_type": "stream",
     "text": [
      "5/10/2020\n",
      "['10:00AM - 11:00AM', '12:30PM - 1:00PM', '4:00PM - 5:00PM']\n",
      "5/10/2020\n",
      "['10:30AM - 11:30AM', '12:00PM - 1:00PM', '1:00PM - 1:30PM', '3:30PM - 4:30PM']\n"
     ]
    }
   ],
   "source": [
    "import json\n",
    "\n",
    "f = open('Employee1.txt','r')\n",
    "fdata = json.loads(f.read().replace(\"\\'\", \"\\\"\"))\n",
    "e1_date,e1_slots = zip(*fdata['Employee1'].items())\n",
    "e1_date = e1_date[0]\n",
    "e1_slots = e1_slots[0]\n",
    "print(e1_date)\n",
    "print(e1_slots)\n",
    "\n",
    "f = open('Employee2.txt','r')\n",
    "fdata = json.loads(f.read().replace(\"\\'\", \"\\\"\"))\n",
    "e2_date,e2_slots = zip(*fdata['Employee2'].items())\n",
    "e2_date = e2_date[0]\n",
    "e2_slots = e2_slots[0]\n",
    "print(e2_date)\n",
    "print(e2_slots)"
   ]
  },
  {
   "cell_type": "code",
   "execution_count": 20,
   "metadata": {},
   "outputs": [
    {
     "name": "stdout",
     "output_type": "stream",
     "text": [
      "12\n"
     ]
    }
   ],
   "source": [
    "a=12\n",
    "b=34\n",
    "tup = (a,b)\n",
    "print(tup[0])"
   ]
  },
  {
   "cell_type": "code",
   "execution_count": 72,
   "metadata": {},
   "outputs": [
    {
     "name": "stdout",
     "output_type": "stream",
     "text": [
      "1.5\n",
      "1.5\n"
     ]
    }
   ],
   "source": [
    "iphr = float(input().split()[0])\n",
    "\n",
    "# iphr = int(iphr)%10 + 0.60*(iphr-iphr//1)\n",
    "print(iphr)\n",
    "\n",
    "if e1_date!=e2_date:\n",
    "    print(\"No slot available\")\n",
    "    exit(0)\n",
    "\n",
    "\n",
    "    "
   ]
  },
  {
   "cell_type": "code",
   "execution_count": 73,
   "metadata": {},
   "outputs": [
    {
     "name": "stdout",
     "output_type": "stream",
     "text": [
      "[[datetime.datetime(1900, 1, 1, 11, 0), datetime.datetime(1900, 1, 1, 12, 30)], [datetime.datetime(1900, 1, 1, 13, 0), datetime.datetime(1900, 1, 1, 16, 0)]]\n",
      "[[datetime.datetime(1900, 1, 1, 9, 0), datetime.datetime(1900, 1, 1, 10, 30)], [datetime.datetime(1900, 1, 1, 13, 30), datetime.datetime(1900, 1, 1, 15, 30)]]\n"
     ]
    }
   ],
   "source": [
    "from datetime import datetime, timedelta\n",
    "\n",
    "tm_start = datetime.strptime(\"9:00AM\", '%I:%M%p')\n",
    "tm_end = datetime.strptime(\"5:00PM\", '%I:%M%p')\n",
    "\n",
    "free_slots = []\n",
    "all_free_slots = []\n",
    "\n",
    "for slots in [e1_slots,e2_slots]:\n",
    "    free = []\n",
    "    allfree = []\n",
    "    prev = tm_start\n",
    "    for slot in slots:\n",
    "        start,end = slot.split('-')\n",
    "        start = start.strip()\n",
    "        end = end.strip()\n",
    "        start = datetime.strptime(start, '%I:%M%p')\n",
    "        end = datetime.strptime(end, '%I:%M%p')\n",
    "        if start > prev:\n",
    "            allfree.append([prev,start])\n",
    "        if (start-prev).total_seconds()/3600 >= iphr:\n",
    "            free.append([prev,start])\n",
    "#             free.append([prev.time(),start.time()])\n",
    "        prev = end        \n",
    "#         print(start,end)\n",
    "    if tm_end > prev:\n",
    "        allfree.append([prev,tm_end])\n",
    "    if (tm_end-prev).total_seconds()/3600 >= iphr:\n",
    "        free.append([prev,tm_end])\n",
    "    free_slots.append(free)\n",
    "    all_free_slots.append(allfree)\n",
    "    print(free)"
   ]
  },
  {
   "cell_type": "code",
   "execution_count": 77,
   "metadata": {},
   "outputs": [
    {
     "name": "stdout",
     "output_type": "stream",
     "text": [
      "13:30:00 15:30:00\n",
      "[datetime.time(13, 30), datetime.time(15, 0)]\n"
     ]
    }
   ],
   "source": [
    "free = 0\n",
    "flag =  False\n",
    "for fs1 in free_slots[0]:\n",
    "    for fs2 in free_slots[1]:\n",
    "        if fs1[0]<=fs2[0] and fs1[1]>=fs2[1]:\n",
    "            free = fs2\n",
    "            flag = True\n",
    "        elif fs2[0]<=fs1[0] and fs2[1]>=fs1[1]:\n",
    "            free = fs1\n",
    "            flag = True\n",
    "        elif fs1[0]<=fs2[0] and fs1[1]>=fs2[0]:\n",
    "            if (fs1[1]-fs2[0]).total_seconds()/3600 >= iphr:\n",
    "                free = fs2\n",
    "                flag = True\n",
    "        elif fs2[0]<=fs1[0] and fs2[1]>=fs1[0]:\n",
    "            if (fs2[1]-fs1[0]).total_seconds()/3600 >= iphr:\n",
    "                free = fs1\n",
    "                flag = True\n",
    "        elif fs1[1]<fs2[0]:\n",
    "            break\n",
    "        else:\n",
    "            continue\n",
    "        if flag:\n",
    "            break\n",
    "    if flag:\n",
    "        break\n",
    "\n",
    "if flag==False:\n",
    "    print(\"NO slot\")\n",
    "else:\n",
    "    print(free[0].time(),free[1].time())\n",
    "    finalslot = [free[0].time(),(free[0]+timedelta(hours=iphr)).time()]\n",
    "    print(finalslot)\n",
    "    \n",
    "            "
   ]
  },
  {
   "cell_type": "code",
   "execution_count": 89,
   "metadata": {},
   "outputs": [
    {
     "name": "stdout",
     "output_type": "stream",
     "text": [
      "['1:30PM', '3:00PM']\n"
     ]
    }
   ],
   "source": [
    "fin_slot = []\n",
    "for i in [0,1]:\n",
    "    fs = time_to_str(finalslot[i])\n",
    "#     fs = str(finalslot[i])[:-3]\n",
    "#     if int(fs[:2]) >= 12:\n",
    "#         if int(fs[:2]) > 12:\n",
    "#             fs = str(int(fs[:2])-12) + fs[2:] \n",
    "#         fs+=\"PM\"\n",
    "#     else:\n",
    "#         fs+=\"AM\"\n",
    "    fin_slot.append(fs)\n",
    "print(fin_slot)"
   ]
  },
  {
   "cell_type": "code",
   "execution_count": 85,
   "metadata": {},
   "outputs": [
    {
     "name": "stdout",
     "output_type": "stream",
     "text": [
      "{'5/10/2020': ['1:30PM', '3:00PM']}\n"
     ]
    }
   ],
   "source": [
    "show_slot = {e1_date:fin_slot}\n",
    "print(show_slot)"
   ]
  },
  {
   "cell_type": "code",
   "execution_count": 88,
   "metadata": {},
   "outputs": [],
   "source": [
    "def time_to_str(time):\n",
    "    fs = str(time)[:-3]\n",
    "    if int(fs[:2]) >= 12:\n",
    "        if int(fs[:2]) > 12:\n",
    "            fs = str(int(fs[:2])-12) + fs[2:] \n",
    "        fs+=\"PM\"\n",
    "    else:\n",
    "        fs+=\"AM\"\n",
    "    return fs"
   ]
  },
  {
   "cell_type": "code",
   "execution_count": 95,
   "metadata": {},
   "outputs": [
    {
     "name": "stdout",
     "output_type": "stream",
     "text": [
      "['11:00AM - 12:30PM', '1:00PM - 4:00PM']\n",
      "['09:00AM - 10:30AM', '1:30PM - 3:30PM']\n",
      "Employee1: ['11:00AM - 12:30PM', '1:00PM - 4:00PM']\n",
      "Employee2: ['09:00AM - 10:30AM', '1:30PM - 3:30PM']\n"
     ]
    }
   ],
   "source": [
    "slots_str = \"\"\n",
    "for i in [0,1]:\n",
    "    sl = []\n",
    "    for fs in all_free_slots[i]:\n",
    "        f = time_to_str(fs[0].time())+\" - \"+time_to_str(fs[1].time())\n",
    "        sl.append(f)\n",
    "    print(sl)\n",
    "    slots_str += \"Employee\"+str(i+1)+\": \"+str(sl)+\"\\n\"\n",
    "slots_str = slots_str.strip()\n",
    "print(slots_str)"
   ]
  },
  {
   "cell_type": "code",
   "execution_count": 98,
   "metadata": {},
   "outputs": [],
   "source": [
    "f = open(\"output.txt\", \"w\")\n",
    "f.write(slots_str+\"\\n\"+str(show_slot))\n",
    "f.close()"
   ]
  },
  {
   "cell_type": "code",
   "execution_count": null,
   "metadata": {},
   "outputs": [],
   "source": []
  }
 ],
 "metadata": {
  "kernelspec": {
   "display_name": "Python 3",
   "language": "python",
   "name": "python3"
  },
  "language_info": {
   "codemirror_mode": {
    "name": "ipython",
    "version": 3
   },
   "file_extension": ".py",
   "mimetype": "text/x-python",
   "name": "python",
   "nbconvert_exporter": "python",
   "pygments_lexer": "ipython3",
   "version": "3.6.5"
  }
 },
 "nbformat": 4,
 "nbformat_minor": 2
}
